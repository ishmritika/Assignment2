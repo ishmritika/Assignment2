{
 "cells": [
  {
   "cell_type": "markdown",
   "id": "408d741b-3928-4195-9249-96e4bb1b424e",
   "metadata": {},
   "source": [
    "# Assignment-2"
   ]
  },
  {
   "cell_type": "code",
   "execution_count": 3,
   "id": "f9e6179f-684b-4983-9c92-145068e57863",
   "metadata": {},
   "outputs": [],
   "source": [
    "import numpy as np"
   ]
  },
  {
   "cell_type": "markdown",
   "id": "c575fd03-9a66-4d5b-a2aa-6b73c315132c",
   "metadata": {},
   "source": [
    "# Q.1. Array Creation"
   ]
  },
  {
   "cell_type": "markdown",
   "id": "58c0719b-6e83-4a88-9cbe-2e055e2a65c4",
   "metadata": {},
   "source": [
    "### a. Create a 1-dimensional array of integers from 1 to 10."
   ]
  },
  {
   "cell_type": "code",
   "execution_count": 4,
   "id": "e6a5c56e-f9d6-4ab2-aecc-55e3dfda71ee",
   "metadata": {},
   "outputs": [
    {
     "data": {
      "text/plain": [
       "array([ 1,  2,  3,  4,  5,  6,  7,  8,  9, 10])"
      ]
     },
     "execution_count": 4,
     "metadata": {},
     "output_type": "execute_result"
    }
   ],
   "source": [
    "a = np.array(range(1, 11))\n",
    "a"
   ]
  },
  {
   "cell_type": "markdown",
   "id": "6276ff68-8bc6-44f2-9331-256f2d31fc19",
   "metadata": {},
   "source": [
    "### b. Create a 2-dimensional array with random float values of shape(3, 4)"
   ]
  },
  {
   "cell_type": "code",
   "execution_count": 5,
   "id": "ce67d486-33fb-481b-bf1b-0b7844803cd1",
   "metadata": {},
   "outputs": [
    {
     "data": {
      "text/plain": [
       "array([[0.93505512, 0.08430474, 0.21042985, 0.27867565],\n",
       "       [0.63788816, 0.66435338, 0.83763198, 0.31237785],\n",
       "       [0.74455922, 0.27750845, 0.16765813, 0.79253817]])"
      ]
     },
     "execution_count": 5,
     "metadata": {},
     "output_type": "execute_result"
    }
   ],
   "source": [
    "b = np.random.rand(3, 4)\n",
    "b"
   ]
  },
  {
   "cell_type": "markdown",
   "id": "48a71167-20c8-428d-aa91-be80864b84fb",
   "metadata": {},
   "source": [
    "### c. Create a 3-dimensional array of zeros with shape(2, 3, 4)"
   ]
  },
  {
   "cell_type": "code",
   "execution_count": 6,
   "id": "3c91cdc1-ae23-4ad0-9b6a-737657aaad60",
   "metadata": {},
   "outputs": [
    {
     "data": {
      "text/plain": [
       "array([[[0., 0., 0., 0.],\n",
       "        [0., 0., 0., 0.],\n",
       "        [0., 0., 0., 0.]],\n",
       "\n",
       "       [[0., 0., 0., 0.],\n",
       "        [0., 0., 0., 0.],\n",
       "        [0., 0., 0., 0.]]])"
      ]
     },
     "execution_count": 6,
     "metadata": {},
     "output_type": "execute_result"
    }
   ],
   "source": [
    "c = np.zeros((2, 3, 4))\n",
    "c"
   ]
  },
  {
   "cell_type": "markdown",
   "id": "1cdc19b2-9c4a-4727-a9db-f307a9ed2c6d",
   "metadata": {},
   "source": [
    "# Q.2. Array Operations"
   ]
  },
  {
   "cell_type": "markdown",
   "id": "2992cce2-6056-4b38-9d9b-76070f429c6a",
   "metadata": {},
   "source": [
    "#### a. Given two 1-dimensional arrays, perform element-wise addition, subtraction, multiplication and division"
   ]
  },
  {
   "cell_type": "code",
   "execution_count": 8,
   "id": "bd25f6f0-0c4d-4af2-a400-64b6b00d5459",
   "metadata": {},
   "outputs": [
    {
     "data": {
      "text/plain": [
       "array([5, 7, 9])"
      ]
     },
     "execution_count": 8,
     "metadata": {},
     "output_type": "execute_result"
    }
   ],
   "source": [
    "d = np.array([1, 2, 3])\n",
    "e = np.array([4, 5, 6])\n",
    "\n",
    "f = d + e\n",
    "f"
   ]
  },
  {
   "cell_type": "code",
   "execution_count": 9,
   "id": "acefa8ca-fdb7-4be0-84ff-e441121c9b59",
   "metadata": {},
   "outputs": [
    {
     "data": {
      "text/plain": [
       "array([-3, -3, -3])"
      ]
     },
     "execution_count": 9,
     "metadata": {},
     "output_type": "execute_result"
    }
   ],
   "source": [
    "g = d - e\n",
    "g"
   ]
  },
  {
   "cell_type": "code",
   "execution_count": 10,
   "id": "a82192ec-344b-4b05-8a8a-dbf230a4eab4",
   "metadata": {},
   "outputs": [
    {
     "data": {
      "text/plain": [
       "array([ 4, 10, 18])"
      ]
     },
     "execution_count": 10,
     "metadata": {},
     "output_type": "execute_result"
    }
   ],
   "source": [
    "h = d * e\n",
    "h"
   ]
  },
  {
   "cell_type": "code",
   "execution_count": 11,
   "id": "fa308af8-4a49-4e42-af0e-bd54bf1a509b",
   "metadata": {},
   "outputs": [
    {
     "data": {
      "text/plain": [
       "array([0.25, 0.4 , 0.5 ])"
      ]
     },
     "execution_count": 11,
     "metadata": {},
     "output_type": "execute_result"
    }
   ],
   "source": [
    "i = d / e\n",
    "i"
   ]
  },
  {
   "cell_type": "markdown",
   "id": "efde0de0-eb63-4f62-b0db-891263aeac9d",
   "metadata": {},
   "source": [
    "### b. Calculate the mean, median and standard deviation of a given 1-dimensional array"
   ]
  },
  {
   "cell_type": "code",
   "execution_count": 12,
   "id": "2c3caa5c-d938-40ff-80de-f62b27d96113",
   "metadata": {},
   "outputs": [
    {
     "data": {
      "text/plain": [
       "13.0"
      ]
     },
     "execution_count": 12,
     "metadata": {},
     "output_type": "execute_result"
    }
   ],
   "source": [
    "j = np.array([11, 12, 13, 14, 15])\n",
    "\n",
    "mean_value = np.mean(j)\n",
    "mean_value"
   ]
  },
  {
   "cell_type": "code",
   "execution_count": 13,
   "id": "33ecd38b-f225-47d0-a47a-7c7e79e7e9c4",
   "metadata": {},
   "outputs": [
    {
     "data": {
      "text/plain": [
       "13.0"
      ]
     },
     "execution_count": 13,
     "metadata": {},
     "output_type": "execute_result"
    }
   ],
   "source": [
    "median_value = np.median(j)\n",
    "median_value"
   ]
  },
  {
   "cell_type": "code",
   "execution_count": 14,
   "id": "1be2fed3-8c63-418a-a508-6a3750b932bb",
   "metadata": {},
   "outputs": [
    {
     "data": {
      "text/plain": [
       "1.4142135623730951"
      ]
     },
     "execution_count": 14,
     "metadata": {},
     "output_type": "execute_result"
    }
   ],
   "source": [
    "std_dev = np.std(j)\n",
    "std_dev"
   ]
  },
  {
   "cell_type": "markdown",
   "id": "c56afe99-d25e-46b4-a720-44d1e5058ee4",
   "metadata": {},
   "source": [
    "### c. Reshape a 1-dimensional array into a 2-dimensional array of shape (3, 4)"
   ]
  },
  {
   "cell_type": "code",
   "execution_count": 19,
   "id": "27230f34-f893-4b40-bd84-b01e9b94a708",
   "metadata": {},
   "outputs": [
    {
     "data": {
      "text/plain": [
       "array([[ 1,  2,  3,  4],\n",
       "       [ 5,  6,  7,  8],\n",
       "       [ 9, 10, 11, 12]])"
      ]
     },
     "execution_count": 19,
     "metadata": {},
     "output_type": "execute_result"
    }
   ],
   "source": [
    "k = np.array([1, 2, 3, 4, 5, 6, 7, 8, 9, 10, 11, 12])\n",
    "l = k.reshape(3, 4)\n",
    "l"
   ]
  },
  {
   "cell_type": "markdown",
   "id": "07f5553c-9e89-46ad-abb2-a227621f018c",
   "metadata": {},
   "source": [
    "# Q.3. Array Indexing and Slicing"
   ]
  },
  {
   "cell_type": "markdown",
   "id": "12236fcf-0531-4a3d-9b39-7c3c05e01a20",
   "metadata": {},
   "source": [
    "### a. Extract the first row and last column of a 2-dimensional array"
   ]
  },
  {
   "cell_type": "code",
   "execution_count": 23,
   "id": "e9a13870-e227-4809-bd0d-65b424796b3d",
   "metadata": {},
   "outputs": [
    {
     "name": "stdout",
     "output_type": "stream",
     "text": [
      "[1 2 3]\n",
      "[3 6 9]\n"
     ]
    }
   ],
   "source": [
    "m = np.array([[1, 2, 3], [4, 5, 6], [7, 8, 9]])\n",
    "\n",
    "first_row = m[0]\n",
    "last_column = m[:, -1]\n",
    "\n",
    "print (first_row)\n",
    "print (last_column)"
   ]
  },
  {
   "cell_type": "markdown",
   "id": "f4341a99-dab2-4e78-892e-46258e2c2ced",
   "metadata": {},
   "source": [
    "### b. Reverse the order of elements in a 1-dimensional array"
   ]
  },
  {
   "cell_type": "code",
   "execution_count": 25,
   "id": "fbb5c886-c164-48ae-8a21-8de30b14d543",
   "metadata": {},
   "outputs": [
    {
     "data": {
      "text/plain": [
       "array([3, 2, 1])"
      ]
     },
     "execution_count": 25,
     "metadata": {},
     "output_type": "execute_result"
    }
   ],
   "source": [
    "n = np.array([1, 2, 3])\n",
    "\n",
    "reverse_array = n[::-1]\n",
    "reverse_array"
   ]
  },
  {
   "cell_type": "markdown",
   "id": "c6baa798-625e-4b96-a478-643be749c965",
   "metadata": {},
   "source": [
    "### c. Select elements from a 2-dimensional array that satisfy a specific \n",
    "condition (e.g., values greater than a certain threshold."
   ]
  },
  {
   "cell_type": "code",
   "execution_count": 26,
   "id": "00b2b71f-4ac3-409d-8d0a-e87a112aa0cb",
   "metadata": {},
   "outputs": [
    {
     "data": {
      "text/plain": [
       "array([[False,  True,  True],\n",
       "       [ True,  True, False]])"
      ]
     },
     "execution_count": 26,
     "metadata": {},
     "output_type": "execute_result"
    }
   ],
   "source": [
    "o = np.array([[1,7,9],[6,8,4]])\n",
    "threshold= 4\n",
    "greater = o > 4\n",
    "greater"
   ]
  },
  {
   "cell_type": "markdown",
   "id": "6fc29f28-71c8-4002-882d-8e988ae0c848",
   "metadata": {},
   "source": [
    "# Q.4. Array Broadcasting"
   ]
  },
  {
   "cell_type": "markdown",
   "id": "2f432406-7114-4e0e-b822-66c84887cd35",
   "metadata": {},
   "source": [
    "### a. Add a scalar value to each element of a 2-dimensional array"
   ]
  },
  {
   "cell_type": "code",
   "execution_count": 27,
   "id": "e1946494-4f48-4fad-a0b9-e6a0fc7cf804",
   "metadata": {},
   "outputs": [
    {
     "data": {
      "text/plain": [
       "array([[ 7, 13, 15],\n",
       "       [12, 14, 10]])"
      ]
     },
     "execution_count": 27,
     "metadata": {},
     "output_type": "execute_result"
    }
   ],
   "source": [
    "p = np.array([[1,7,9],[6,8,4]])\n",
    "scalar_value = 6\n",
    "\n",
    "result = p + scalar_value\n",
    "result"
   ]
  },
  {
   "cell_type": "markdown",
   "id": "b59f85b6-1418-4c53-92b0-e55ca6a302e6",
   "metadata": {},
   "source": [
    "### b. Multiply a 1-dimensional array with a 2-dimensional array, leveraging Numpy's broadcasting rules"
   ]
  },
  {
   "cell_type": "code",
   "execution_count": 28,
   "id": "47cfe25b-de9c-43c6-aa17-6c6e6bbc279a",
   "metadata": {},
   "outputs": [
    {
     "data": {
      "text/plain": [
       "array([[ 4, 10, 18],\n",
       "       [ 7, 16, 27]])"
      ]
     },
     "execution_count": 28,
     "metadata": {},
     "output_type": "execute_result"
    }
   ],
   "source": [
    "q = np.array([1, 2, 3])\n",
    "r = np.array([[4, 5, 6], [7, 8, 9]])\n",
    "\n",
    "mul = q * r\n",
    "mul"
   ]
  },
  {
   "cell_type": "markdown",
   "id": "4e684c36-5712-45ea-97c1-04328d067999",
   "metadata": {},
   "source": [
    "# Q.5. Linear Algebra"
   ]
  },
  {
   "cell_type": "markdown",
   "id": "ddf3086b-bb27-4984-8222-ff6698ca14de",
   "metadata": {},
   "source": [
    "### a. Calculate the dot product of two 1-dimensional arrays"
   ]
  },
  {
   "cell_type": "code",
   "execution_count": 29,
   "id": "4fec7a32-e506-4c68-8dea-7876ea1c6ad2",
   "metadata": {},
   "outputs": [
    {
     "data": {
      "text/plain": [
       "28"
      ]
     },
     "execution_count": 29,
     "metadata": {},
     "output_type": "execute_result"
    }
   ],
   "source": [
    "s = np.array([1,2,3])\n",
    "t = np.array([4,3,6])\n",
    "\n",
    "result = np.dot(s, t)\n",
    "result"
   ]
  },
  {
   "cell_type": "markdown",
   "id": "b950be72-e279-4cc3-9bd1-4180cfdb5e96",
   "metadata": {},
   "source": [
    "### b. Compute the matrix multiplication of two 2-dimensional arrays"
   ]
  },
  {
   "cell_type": "code",
   "execution_count": 30,
   "id": "7e2bf629-37cc-4e01-a338-264c6efba970",
   "metadata": {},
   "outputs": [
    {
     "data": {
      "text/plain": [
       "array([[ 1,  6,  6],\n",
       "       [12,  3,  6]])"
      ]
     },
     "execution_count": 30,
     "metadata": {},
     "output_type": "execute_result"
    }
   ],
   "source": [
    "u = np.array([[1,2,3],[6,3,2]])\n",
    "v = np.array([[1,3,2],[2,1,3]])\n",
    "multi = u* v\n",
    "multi"
   ]
  },
  {
   "cell_type": "markdown",
   "id": "321924b9-90aa-4f4e-b19b-e4ba66556fe8",
   "metadata": {},
   "source": [
    "### c. Find the inverse and determinant of a square matrix"
   ]
  },
  {
   "cell_type": "code",
   "execution_count": 31,
   "id": "cb0d0929-72b2-44e0-8a0f-923905c2717e",
   "metadata": {},
   "outputs": [
    {
     "data": {
      "text/plain": [
       "array([[ 1.21428571, -0.07142857],\n",
       "       [-0.10714286,  0.03571429]])"
      ]
     },
     "execution_count": 31,
     "metadata": {},
     "output_type": "execute_result"
    }
   ],
   "source": [
    "w = np.array([[1,2],[3,34]])\n",
    "inv = np.linalg.inv(w)\n",
    "inv"
   ]
  },
  {
   "cell_type": "code",
   "execution_count": 32,
   "id": "2a2d44d5-7a45-45b3-a596-4bb87b997c13",
   "metadata": {},
   "outputs": [
    {
     "data": {
      "text/plain": [
       "28.00000000000001"
      ]
     },
     "execution_count": 32,
     "metadata": {},
     "output_type": "execute_result"
    }
   ],
   "source": [
    "det = np.linalg.det(w)\n",
    "det"
   ]
  },
  {
   "cell_type": "code",
   "execution_count": null,
   "id": "e4be6ccd-3eab-4e5c-9f36-3406426a5533",
   "metadata": {},
   "outputs": [],
   "source": []
  }
 ],
 "metadata": {
  "kernelspec": {
   "display_name": "Python 3 (ipykernel)",
   "language": "python",
   "name": "python3"
  },
  "language_info": {
   "codemirror_mode": {
    "name": "ipython",
    "version": 3
   },
   "file_extension": ".py",
   "mimetype": "text/x-python",
   "name": "python",
   "nbconvert_exporter": "python",
   "pygments_lexer": "ipython3",
   "version": "3.11.7"
  }
 },
 "nbformat": 4,
 "nbformat_minor": 5
}
